{
  "nbformat": 4,
  "nbformat_minor": 2,
  "metadata": {
    "colab": {
      "name": "introducao_colab.ipynb",
      "provenance": [],
      "authorship_tag": "ABX9TyMFyz9wJbvzKT/KgM3rV0Dv",
      "include_colab_link": true
    },
    "kernelspec": {
      "name": "python3",
      "display_name": "Python 3.8.10 64-bit ('venv': venv)"
    },
    "language_info": {
      "name": "python",
      "version": "3.8.10",
      "mimetype": "text/x-python",
      "codemirror_mode": {
        "name": "ipython",
        "version": 3
      },
      "pygments_lexer": "ipython3",
      "nbconvert_exporter": "python",
      "file_extension": ".py"
    },
    "interpreter": {
      "hash": "8e0826eea70871375c8fe1af819ed08239003a008f8371b38b9cd50ac7904296"
    }
  },
  "cells": [
    {
      "cell_type": "code",
      "execution_count": 1,
      "source": [
        "print('olá mundo!')"
      ],
      "outputs": [
        {
          "output_type": "stream",
          "name": "stdout",
          "text": [
            "olá mundo!\n"
          ]
        }
      ],
      "metadata": {
        "colab": {
          "base_uri": "https://localhost:8080/"
        },
        "id": "mUyPL5EsR_ku",
        "outputId": "7d3488f2-b6f4-4b0a-d429-4245e339f806"
      }
    },
    {
      "cell_type": "code",
      "execution_count": 2,
      "source": [
        "almoco = ['arroz', 'feijão', 'carne', 'pimenta']"
      ],
      "outputs": [],
      "metadata": {
        "id": "I5NRKUGvTEYY"
      }
    },
    {
      "cell_type": "code",
      "execution_count": 3,
      "source": [
        "almoco"
      ],
      "outputs": [
        {
          "output_type": "execute_result",
          "data": {
            "text/plain": [
              "['arroz', 'feijão', 'carne', 'pimenta']"
            ]
          },
          "metadata": {},
          "execution_count": 3
        }
      ],
      "metadata": {
        "colab": {
          "base_uri": "https://localhost:8080/"
        },
        "id": "gdlscdZRSywa",
        "outputId": "30273bd7-bf10-4374-be29-8510a2fae97f"
      }
    },
    {
      "cell_type": "code",
      "execution_count": 4,
      "source": [
        "almoco[0]"
      ],
      "outputs": [
        {
          "output_type": "execute_result",
          "data": {
            "text/plain": [
              "'arroz'"
            ]
          },
          "metadata": {},
          "execution_count": 4
        }
      ],
      "metadata": {
        "colab": {
          "base_uri": "https://localhost:8080/",
          "height": 35
        },
        "id": "USRZrmqmTRcN",
        "outputId": "00f10e92-b9e5-418e-bf73-101bec3990c9"
      }
    },
    {
      "cell_type": "code",
      "execution_count": 5,
      "source": [
        "almoco[-1]"
      ],
      "outputs": [
        {
          "output_type": "execute_result",
          "data": {
            "text/plain": [
              "'pimenta'"
            ]
          },
          "metadata": {},
          "execution_count": 5
        }
      ],
      "metadata": {
        "colab": {
          "base_uri": "https://localhost:8080/",
          "height": 35
        },
        "id": "fLb3nqY7TYQO",
        "outputId": "1d6b5a8b-131b-42d6-cfa3-7de66efbc4d6"
      }
    },
    {
      "cell_type": "code",
      "execution_count": 6,
      "source": [
        "almoco.append('suco')"
      ],
      "outputs": [],
      "metadata": {
        "id": "se-MysbvTccJ"
      }
    },
    {
      "cell_type": "code",
      "execution_count": 7,
      "source": [
        "almoco"
      ],
      "outputs": [
        {
          "output_type": "execute_result",
          "data": {
            "text/plain": [
              "['arroz', 'feijão', 'carne', 'pimenta', 'suco']"
            ]
          },
          "metadata": {},
          "execution_count": 7
        }
      ],
      "metadata": {
        "colab": {
          "base_uri": "https://localhost:8080/"
        },
        "id": "HIPn2BZLTfYK",
        "outputId": "c5f2bc8b-32d5-4a7e-cf55-ddca96a510b2"
      }
    },
    {
      "cell_type": "code",
      "execution_count": 8,
      "source": [
        "almoco.remove('pimenta')"
      ],
      "outputs": [],
      "metadata": {
        "id": "ay4GrapWUN-f"
      }
    },
    {
      "cell_type": "code",
      "execution_count": 9,
      "source": [
        "almoco"
      ],
      "outputs": [
        {
          "output_type": "execute_result",
          "data": {
            "text/plain": [
              "['arroz', 'feijão', 'carne', 'suco']"
            ]
          },
          "metadata": {},
          "execution_count": 9
        }
      ],
      "metadata": {
        "colab": {
          "base_uri": "https://localhost:8080/"
        },
        "id": "RYN4-dauUR0r",
        "outputId": "71a0b46f-d449-4702-fc57-a131c25419b7"
      }
    },
    {
      "cell_type": "code",
      "execution_count": 10,
      "source": [
        "almoco.pop()"
      ],
      "outputs": [
        {
          "output_type": "execute_result",
          "data": {
            "text/plain": [
              "'suco'"
            ]
          },
          "metadata": {},
          "execution_count": 10
        }
      ],
      "metadata": {
        "colab": {
          "base_uri": "https://localhost:8080/",
          "height": 35
        },
        "id": "m4bBGAkZUSpa",
        "outputId": "d9fb0257-d42c-4b19-c6ba-12bbf34c5f60"
      }
    },
    {
      "cell_type": "code",
      "execution_count": 11,
      "source": [
        "almoco"
      ],
      "outputs": [
        {
          "output_type": "execute_result",
          "data": {
            "text/plain": [
              "['arroz', 'feijão', 'carne']"
            ]
          },
          "metadata": {},
          "execution_count": 11
        }
      ],
      "metadata": {
        "colab": {
          "base_uri": "https://localhost:8080/"
        },
        "id": "9CKHT_ANUuyk",
        "outputId": "0c18c7bd-88ec-4a34-b583-5a284d71cb17"
      }
    },
    {
      "cell_type": "code",
      "execution_count": 12,
      "source": [],
      "outputs": [
        {
          "output_type": "stream",
          "name": "stdout",
          "text": [
            "teste\n"
          ]
        }
      ],
      "metadata": {
        "id": "D3a8QX7ZVU37"
      }
    }
  ]
}