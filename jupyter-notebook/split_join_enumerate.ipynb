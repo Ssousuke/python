{
 "cells": [
  {
   "cell_type": "markdown",
   "metadata": {},
   "source": [
    "#### split = Dividir\n",
    "#### join = Juntar\n",
    "#### enumerate - Enumera itens da lista - Iteraveis"
   ]
  },
  {
   "cell_type": "code",
   "execution_count": 27,
   "metadata": {},
   "outputs": [],
   "source": [
    "primeira_frase = 'Olá Mundo! Eu estou programando em python. Tudo bem com vocês?'"
   ]
  },
  {
   "cell_type": "markdown",
   "metadata": {},
   "source": [
    "### Dividindo a frase"
   ]
  },
  {
   "cell_type": "code",
   "execution_count": 28,
   "metadata": {},
   "outputs": [
    {
     "data": {
      "text/plain": [
       "['Olá',\n",
       " 'Mundo!',\n",
       " 'Eu',\n",
       " 'estou',\n",
       " 'programando',\n",
       " 'em',\n",
       " 'python.',\n",
       " 'Tudo',\n",
       " 'bem',\n",
       " 'com',\n",
       " 'vocês?']"
      ]
     },
     "execution_count": 28,
     "metadata": {},
     "output_type": "execute_result"
    }
   ],
   "source": [
    "usando_split = primeira_frase.split(' ')\n",
    "usando_split"
   ]
  },
  {
   "cell_type": "markdown",
   "metadata": {},
   "source": [
    "#### também é possível usar todas as funções de uma lista"
   ]
  },
  {
   "cell_type": "code",
   "execution_count": 29,
   "metadata": {},
   "outputs": [
    {
     "data": {
      "text/plain": [
       "['Eu',\n",
       " 'Mundo!',\n",
       " 'Olá',\n",
       " 'Tudo',\n",
       " 'bem',\n",
       " 'com',\n",
       " 'em',\n",
       " 'estou',\n",
       " 'programando',\n",
       " 'python.',\n",
       " 'vocês?']"
      ]
     },
     "execution_count": 29,
     "metadata": {},
     "output_type": "execute_result"
    }
   ],
   "source": [
    "# Exemplo: Ordenando a palavras por ordem alfabetica.\n",
    "usando_split.sort()\n",
    "usando_split"
   ]
  },
  {
   "cell_type": "markdown",
   "metadata": {},
   "source": [
    "#### Mais exemplos do split"
   ]
  },
  {
   "cell_type": "code",
   "execution_count": 30,
   "metadata": {},
   "outputs": [
    {
     "data": {
      "text/plain": [
       "['Olá Mundo', ' Eu estou programando em python. Tudo bem com vocês?']"
      ]
     },
     "execution_count": 30,
     "metadata": {},
     "output_type": "execute_result"
    }
   ],
   "source": [
    "usando_split = primeira_frase.split('!')\n",
    "usando_split"
   ]
  },
  {
   "cell_type": "code",
   "execution_count": 31,
   "metadata": {},
   "outputs": [
    {
     "data": {
      "text/plain": [
       "['Olá Mundo! Eu estou programando em python', ' Tudo bem com vocês?']"
      ]
     },
     "execution_count": 31,
     "metadata": {},
     "output_type": "execute_result"
    }
   ],
   "source": [
    "usando_split = primeira_frase.split('.')\n",
    "usando_split"
   ]
  },
  {
   "cell_type": "code",
   "execution_count": null,
   "metadata": {},
   "outputs": [],
   "source": []
  }
 ],
 "metadata": {
  "interpreter": {
   "hash": "98ec2d3fb40e0acfa7e0669af43f2c2ca9fb051ca2617d801addafe1c0e7e93e"
  },
  "kernelspec": {
   "display_name": "Python 3.8.10 64-bit ('venv': venv)",
   "name": "python3"
  },
  "language_info": {
   "codemirror_mode": {
    "name": "ipython",
    "version": 3
   },
   "file_extension": ".py",
   "mimetype": "text/x-python",
   "name": "python",
   "nbconvert_exporter": "python",
   "pygments_lexer": "ipython3",
   "version": "3.8.10"
  },
  "orig_nbformat": 4
 },
 "nbformat": 4,
 "nbformat_minor": 2
}
