{
  "nbformat": 4,
  "nbformat_minor": 0,
  "metadata": {
    "colab": {
      "name": "random.ipynb",
      "provenance": [],
      "collapsed_sections": []
    },
    "kernelspec": {
      "name": "python3",
      "display_name": "Python 3"
    },
    "language_info": {
      "name": "python"
    }
  },
  "cells": [
    {
      "cell_type": "markdown",
      "metadata": {
        "id": "fLy25lVjrMYb"
      },
      "source": [
        "# Tetando a sorte com a mega sena"
      ]
    },
    {
      "cell_type": "markdown",
      "metadata": {
        "id": "H2ETOyIJrTDN"
      },
      "source": [
        "#### Lista dos números mais comuns de sairem"
      ]
    },
    {
      "cell_type": "code",
      "metadata": {
        "id": "DomXglK0S1D-"
      },
      "source": [
        "lista = [9, 27, 14, 30, 37, 57, 33, 41, 58,33, 41, 58,7, 28, 45, 49, 60, 5, 10, 23, 33, 42,53]"
      ],
      "execution_count": 67,
      "outputs": []
    },
    {
      "cell_type": "code",
      "metadata": {
        "colab": {
          "base_uri": "https://localhost:8080/"
        },
        "id": "NRiRflaaTf5n",
        "outputId": "ba3fbc32-62c1-400a-8759-b9c81f808a2f"
      },
      "source": [
        "len(lista)"
      ],
      "execution_count": 68,
      "outputs": [
        {
          "output_type": "execute_result",
          "data": {
            "text/plain": [
              "23"
            ]
          },
          "metadata": {},
          "execution_count": 68
        }
      ]
    },
    {
      "cell_type": "code",
      "metadata": {
        "id": "Hby7YYsbT9zE"
      },
      "source": [
        "lista.sort()"
      ],
      "execution_count": 69,
      "outputs": []
    },
    {
      "cell_type": "markdown",
      "metadata": {
        "id": "y5DtnwSFrcqw"
      },
      "source": [
        "#### Usando list comprehension"
      ]
    },
    {
      "cell_type": "code",
      "metadata": {
        "id": "2-9r4z_yeRpY"
      },
      "source": [
        "from random import choice\n",
        "\n",
        "random_lista = [choice(lista) for _ in range(6)]"
      ],
      "execution_count": 70,
      "outputs": []
    },
    {
      "cell_type": "code",
      "metadata": {
        "id": "SVQ8KMBdkXYk"
      },
      "source": [
        "random_lista.sort()"
      ],
      "execution_count": 71,
      "outputs": []
    },
    {
      "cell_type": "code",
      "metadata": {
        "colab": {
          "base_uri": "https://localhost:8080/"
        },
        "id": "QjJsgNYvl-tC",
        "outputId": "03a043d5-d03d-4447-9b7c-ccf8d1f75410"
      },
      "source": [
        "random_lista"
      ],
      "execution_count": 72,
      "outputs": [
        {
          "output_type": "execute_result",
          "data": {
            "text/plain": [
              "[7, 27, 41, 41, 45, 58]"
            ]
          },
          "metadata": {},
          "execution_count": 72
        }
      ]
    },
    {
      "cell_type": "markdown",
      "metadata": {
        "id": "4h6p9sOvrq5e"
      },
      "source": [
        "#### Isso é só uma brincadeira, existem vários outros fatores que deveriam ser levados em consideração. E os números da mega sena são totalmente aleatorios."
      ]
    }
  ]
}