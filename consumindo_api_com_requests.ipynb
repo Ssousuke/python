{
  "nbformat": 4,
  "nbformat_minor": 0,
  "metadata": {
    "colab": {
      "name": "consumindo-api-com-requests.ipynb",
      "provenance": [],
      "authorship_tag": "ABX9TyNFM3fPK9kJMLLEvS1j5YMe"
    },
    "kernelspec": {
      "name": "python3",
      "display_name": "Python 3"
    },
    "language_info": {
      "name": "python"
    }
  },
  "cells": [
    {
      "cell_type": "markdown",
      "metadata": {
        "id": "tiXb3c5oN3lb"
      },
      "source": [
        "# Consumindo API com requests\n",
        "### https://docs.python-requests.org/"
      ]
    },
    {
      "cell_type": "markdown",
      "metadata": {
        "id": "nv6Z2B5PONUk"
      },
      "source": [
        "##### importa a biblioteca requests"
      ]
    },
    {
      "cell_type": "code",
      "metadata": {
        "id": "JQGxhhpdH-D-"
      },
      "source": [
        "import requests"
      ],
      "execution_count": 52,
      "outputs": []
    },
    {
      "cell_type": "markdown",
      "metadata": {
        "id": "E1mFCND3OXhi"
      },
      "source": [
        "##### Define uma variavel para o cep"
      ]
    },
    {
      "cell_type": "code",
      "metadata": {
        "id": "PnGgGBtgOUkK"
      },
      "source": [
        "cep = 64063660"
      ],
      "execution_count": 58,
      "outputs": []
    },
    {
      "cell_type": "markdown",
      "metadata": {
        "id": "hTREyfgQOc7d"
      },
      "source": [
        "##### r recebe um get com o link da api"
      ]
    },
    {
      "cell_type": "code",
      "metadata": {
        "id": "2topu87gH-3y"
      },
      "source": [
        "r = requests.get(f'http://viacep.com.br/ws/{cep}/json/', stream=True)"
      ],
      "execution_count": 54,
      "outputs": []
    },
    {
      "cell_type": "markdown",
      "metadata": {
        "id": "S4hACn9FOj6q"
      },
      "source": [
        "##### cabeçalho"
      ]
    },
    {
      "cell_type": "code",
      "metadata": {
        "id": "EDVaPwbTIJ3J"
      },
      "source": [
        "headers = {'content-type': 'application/json'}\n",
        "payload = {'some': 'data'}"
      ],
      "execution_count": 55,
      "outputs": []
    },
    {
      "cell_type": "markdown",
      "metadata": {
        "id": "mUuoIgV-OnNz"
      },
      "source": [
        "##### status code"
      ]
    },
    {
      "cell_type": "code",
      "metadata": {
        "id": "JvXoEPLjIK7F",
        "colab": {
          "base_uri": "https://localhost:8080/"
        },
        "outputId": "17ec5460-bb64-4d49-f2de-0db1cfe818a7"
      },
      "source": [
        "r.status_code"
      ],
      "execution_count": 59,
      "outputs": [
        {
          "output_type": "execute_result",
          "data": {
            "text/plain": [
              "200"
            ]
          },
          "metadata": {},
          "execution_count": 59
        }
      ]
    },
    {
      "cell_type": "markdown",
      "metadata": {
        "id": "aiLpUY2fOpbr"
      },
      "source": [
        "##### resposta em formato json"
      ]
    },
    {
      "cell_type": "code",
      "metadata": {
        "colab": {
          "base_uri": "https://localhost:8080/"
        },
        "id": "OUiY_jp5L5S1",
        "outputId": "cdd3e66b-3e9f-4d57-ca53-ea8f7d31fbce"
      },
      "source": [
        "r.json()"
      ],
      "execution_count": 60,
      "outputs": [
        {
          "output_type": "execute_result",
          "data": {
            "text/plain": [
              "{'bairro': 'Socopo',\n",
              " 'cep': '64063-660',\n",
              " 'complemento': '',\n",
              " 'ddd': '86',\n",
              " 'gia': '',\n",
              " 'ibge': '2211001',\n",
              " 'localidade': 'Teresina',\n",
              " 'logradouro': 'Rua Nossa Senhora de Fátima',\n",
              " 'siafi': '1219',\n",
              " 'uf': 'PI'}"
            ]
          },
          "metadata": {},
          "execution_count": 60
        }
      ]
    },
    {
      "cell_type": "code",
      "metadata": {
        "id": "e3jhqCj8OHf6"
      },
      "source": [
        ""
      ],
      "execution_count": null,
      "outputs": []
    }
  ]
}