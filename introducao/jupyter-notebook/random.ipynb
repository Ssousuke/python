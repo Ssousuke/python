{
  "nbformat": 4,
  "nbformat_minor": 2,
  "metadata": {
    "colab": {
      "name": "random.ipynb",
      "provenance": [],
      "collapsed_sections": []
    },
    "kernelspec": {
      "name": "python3",
      "display_name": "Python 3.8.10 64-bit ('venv': venv)"
    },
    "language_info": {
      "name": "python",
      "version": "3.8.10",
      "mimetype": "text/x-python",
      "codemirror_mode": {
        "name": "ipython",
        "version": 3
      },
      "pygments_lexer": "ipython3",
      "nbconvert_exporter": "python",
      "file_extension": ".py"
    },
    "interpreter": {
      "hash": "8e0826eea70871375c8fe1af819ed08239003a008f8371b38b9cd50ac7904296"
    }
  },
  "cells": [
    {
      "cell_type": "markdown",
      "source": [
        "# Tetando a sorte com a mega sena"
      ],
      "metadata": {
        "id": "fLy25lVjrMYb"
      }
    },
    {
      "cell_type": "markdown",
      "source": [
        "#### Lista dos números mais comuns de sairem"
      ],
      "metadata": {
        "id": "H2ETOyIJrTDN"
      }
    },
    {
      "cell_type": "code",
      "execution_count": 1,
      "source": [
        "lista = [9, 27, 14, 30, 37, 57, 33, 41, 58,33, 41, 58,7, 28, 45, 49, 60, 5, 10, 23, 33, 42,53]"
      ],
      "outputs": [],
      "metadata": {
        "id": "DomXglK0S1D-"
      }
    },
    {
      "cell_type": "code",
      "execution_count": 2,
      "source": [
        "len(lista)"
      ],
      "outputs": [
        {
          "output_type": "execute_result",
          "data": {
            "text/plain": [
              "23"
            ]
          },
          "metadata": {},
          "execution_count": 2
        }
      ],
      "metadata": {
        "colab": {
          "base_uri": "https://localhost:8080/"
        },
        "id": "NRiRflaaTf5n",
        "outputId": "ba3fbc32-62c1-400a-8759-b9c81f808a2f"
      }
    },
    {
      "cell_type": "code",
      "execution_count": 3,
      "source": [
        "lista.sort()"
      ],
      "outputs": [],
      "metadata": {
        "id": "Hby7YYsbT9zE"
      }
    },
    {
      "cell_type": "markdown",
      "source": [
        "#### Usando list comprehension"
      ],
      "metadata": {
        "id": "y5DtnwSFrcqw"
      }
    },
    {
      "cell_type": "code",
      "execution_count": 4,
      "source": [
        "from random import choice\n",
        "\n",
        "random_lista = [choice(lista) for _ in range(6)]"
      ],
      "outputs": [],
      "metadata": {
        "id": "2-9r4z_yeRpY"
      }
    },
    {
      "cell_type": "code",
      "execution_count": 5,
      "source": [
        "random_lista.sort()"
      ],
      "outputs": [],
      "metadata": {
        "id": "SVQ8KMBdkXYk"
      }
    },
    {
      "cell_type": "code",
      "execution_count": 6,
      "source": [
        "random_lista"
      ],
      "outputs": [
        {
          "output_type": "execute_result",
          "data": {
            "text/plain": [
              "[7, 14, 27, 45, 53, 53]"
            ]
          },
          "metadata": {},
          "execution_count": 6
        }
      ],
      "metadata": {
        "colab": {
          "base_uri": "https://localhost:8080/"
        },
        "id": "QjJsgNYvl-tC",
        "outputId": "03a043d5-d03d-4447-9b7c-ccf8d1f75410"
      }
    },
    {
      "cell_type": "markdown",
      "source": [
        "#### Isso é só uma brincadeira, existem vários outros fatores que deveriam ser levados em consideração. E os números da mega sena são totalmente aleatorios."
      ],
      "metadata": {
        "id": "4h6p9sOvrq5e"
      }
    }
  ]
}