{
  "cells": [
    {
      "cell_type": "markdown",
      "metadata": {
        "id": "fLy25lVjrMYb"
      },
      "source": [
        "# Tetando a sorte com a mega sena"
      ]
    },
    {
      "cell_type": "markdown",
      "metadata": {
        "id": "H2ETOyIJrTDN"
      },
      "source": [
        "#### Lista dos números mais comuns de sairem"
      ]
    },
    {
      "cell_type": "code",
      "execution_count": 1,
      "metadata": {
        "id": "DomXglK0S1D-"
      },
      "outputs": [],
      "source": [
        "lista = [9, 27, 14, 30, 37, 57, 33, 41, 58,33, 41, 58,7, 28, 45, 49, 60, 5, 10, 23, 33, 42,53]"
      ]
    },
    {
      "cell_type": "code",
      "execution_count": 2,
      "metadata": {
        "colab": {
          "base_uri": "https://localhost:8080/"
        },
        "id": "NRiRflaaTf5n",
        "outputId": "ba3fbc32-62c1-400a-8759-b9c81f808a2f"
      },
      "outputs": [
        {
          "data": {
            "text/plain": [
              "23"
            ]
          },
          "execution_count": 2,
          "metadata": {},
          "output_type": "execute_result"
        }
      ],
      "source": [
        "len(lista)"
      ]
    },
    {
      "cell_type": "code",
      "execution_count": 3,
      "metadata": {
        "id": "Hby7YYsbT9zE"
      },
      "outputs": [],
      "source": [
        "lista.sort()"
      ]
    },
    {
      "cell_type": "markdown",
      "metadata": {
        "id": "y5DtnwSFrcqw"
      },
      "source": [
        "#### Usando list comprehension"
      ]
    },
    {
      "cell_type": "code",
      "execution_count": 4,
      "metadata": {
        "id": "2-9r4z_yeRpY"
      },
      "outputs": [],
      "source": [
        "from random import choice\n",
        "\n",
        "random_lista = [choice(lista) for _ in range(6)]"
      ]
    },
    {
      "cell_type": "code",
      "execution_count": 5,
      "metadata": {
        "id": "SVQ8KMBdkXYk"
      },
      "outputs": [],
      "source": [
        "random_lista.sort()"
      ]
    },
    {
      "cell_type": "code",
      "execution_count": 6,
      "metadata": {
        "colab": {
          "base_uri": "https://localhost:8080/"
        },
        "id": "QjJsgNYvl-tC",
        "outputId": "03a043d5-d03d-4447-9b7c-ccf8d1f75410"
      },
      "outputs": [
        {
          "data": {
            "text/plain": [
              "[9, 30, 41, 42, 57, 60]"
            ]
          },
          "execution_count": 6,
          "metadata": {},
          "output_type": "execute_result"
        }
      ],
      "source": [
        "random_lista"
      ]
    },
    {
      "cell_type": "markdown",
      "metadata": {
        "id": "4h6p9sOvrq5e"
      },
      "source": [
        "#### Isso é só uma brincadeira, existem vários outros fatores que deveriam ser levados em consideração. E os números da mega sena são totalmente aleatorios."
      ]
    }
  ],
  "metadata": {
    "colab": {
      "collapsed_sections": [],
      "name": "random.ipynb",
      "provenance": []
    },
    "interpreter": {
      "hash": "98ec2d3fb40e0acfa7e0669af43f2c2ca9fb051ca2617d801addafe1c0e7e93e"
    },
    "kernelspec": {
      "display_name": "Python 3.8.10 64-bit ('venv': venv)",
      "name": "python3"
    },
    "language_info": {
      "codemirror_mode": {
        "name": "ipython",
        "version": 3
      },
      "file_extension": ".py",
      "mimetype": "text/x-python",
      "name": "python",
      "nbconvert_exporter": "python",
      "pygments_lexer": "ipython3",
      "version": "3.8.10"
    }
  },
  "nbformat": 4,
  "nbformat_minor": 2
}
