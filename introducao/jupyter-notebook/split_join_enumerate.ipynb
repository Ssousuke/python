{
 "cells": [
  {
   "cell_type": "markdown",
   "metadata": {},
   "source": [
    "#### split = Dividir\n",
    "#### join = Juntar\n",
    "#### enumerate = Enumera itens da lista - Iteraveis"
   ]
  },
  {
   "cell_type": "markdown",
   "metadata": {},
   "source": [
    "# split"
   ]
  },
  {
   "cell_type": "code",
   "execution_count": 152,
   "metadata": {},
   "outputs": [],
   "source": [
    "primeira_frase = 'Olá Mundo! Eu estou programando em python. Tudo bem com vocês? eu estou otimo!'"
   ]
  },
  {
   "cell_type": "markdown",
   "metadata": {},
   "source": [
    "### Dividindo a frase"
   ]
  },
  {
   "cell_type": "code",
   "execution_count": 153,
   "metadata": {},
   "outputs": [
    {
     "data": {
      "text/plain": [
       "['Olá',\n",
       " 'Mundo!',\n",
       " 'Eu',\n",
       " 'estou',\n",
       " 'programando',\n",
       " 'em',\n",
       " 'python.',\n",
       " 'Tudo',\n",
       " 'bem',\n",
       " 'com',\n",
       " 'vocês?',\n",
       " 'eu',\n",
       " 'estou',\n",
       " 'otimo!']"
      ]
     },
     "execution_count": 153,
     "metadata": {},
     "output_type": "execute_result"
    }
   ],
   "source": [
    "usando_split1 = primeira_frase.split(' ')\n",
    "usando_split1"
   ]
  },
  {
   "cell_type": "markdown",
   "metadata": {},
   "source": [
    "#### também é possível usar todas as funções de uma lista"
   ]
  },
  {
   "cell_type": "code",
   "execution_count": 154,
   "metadata": {},
   "outputs": [
    {
     "data": {
      "text/plain": [
       "['Eu',\n",
       " 'Mundo!',\n",
       " 'Olá',\n",
       " 'Tudo',\n",
       " 'bem',\n",
       " 'com',\n",
       " 'em',\n",
       " 'estou',\n",
       " 'estou',\n",
       " 'eu',\n",
       " 'otimo!',\n",
       " 'programando',\n",
       " 'python.',\n",
       " 'vocês?']"
      ]
     },
     "execution_count": 154,
     "metadata": {},
     "output_type": "execute_result"
    }
   ],
   "source": [
    "# Exemplo: Ordenando a palavras por ordem alfabetica.\n",
    "usando_split1.sort()\n",
    "usando_split1"
   ]
  },
  {
   "cell_type": "markdown",
   "metadata": {},
   "source": [
    "#### Mais exemplos do split"
   ]
  },
  {
   "cell_type": "code",
   "execution_count": 155,
   "metadata": {},
   "outputs": [
    {
     "data": {
      "text/plain": [
       "['Olá Mundo',\n",
       " ' Eu estou programando em python. Tudo bem com vocês? eu estou otimo',\n",
       " '']"
      ]
     },
     "execution_count": 155,
     "metadata": {},
     "output_type": "execute_result"
    }
   ],
   "source": [
    "usando_split2 = primeira_frase.split('!')\n",
    "usando_split2"
   ]
  },
  {
   "cell_type": "code",
   "execution_count": 156,
   "metadata": {},
   "outputs": [
    {
     "data": {
      "text/plain": [
       "['Olá Mundo! Eu estou programando em python',\n",
       " ' Tudo bem com vocês? eu estou otimo!']"
      ]
     },
     "execution_count": 156,
     "metadata": {},
     "output_type": "execute_result"
    }
   ],
   "source": [
    "usando_split3 = primeira_frase.split('.')\n",
    "usando_split3"
   ]
  },
  {
   "cell_type": "markdown",
   "metadata": {},
   "source": [
    "#### Contando Palavras"
   ]
  },
  {
   "cell_type": "code",
   "execution_count": 157,
   "metadata": {},
   "outputs": [
    {
     "name": "stdout",
     "output_type": "stream",
     "text": [
      " Palavra: \"Eu\", apareceu: \"1\" vezes na frase\n",
      " Palavra: \"Mundo!\", apareceu: \"1\" vezes na frase\n",
      " Palavra: \"Olá\", apareceu: \"1\" vezes na frase\n",
      " Palavra: \"Tudo\", apareceu: \"1\" vezes na frase\n",
      " Palavra: \"bem\", apareceu: \"1\" vezes na frase\n",
      " Palavra: \"com\", apareceu: \"1\" vezes na frase\n",
      " Palavra: \"em\", apareceu: \"1\" vezes na frase\n",
      " Palavra: \"estou\", apareceu: \"2\" vezes na frase\n",
      " Palavra: \"estou\", apareceu: \"2\" vezes na frase\n",
      " Palavra: \"eu\", apareceu: \"1\" vezes na frase\n",
      " Palavra: \"otimo!\", apareceu: \"1\" vezes na frase\n",
      " Palavra: \"programando\", apareceu: \"1\" vezes na frase\n",
      " Palavra: \"python.\", apareceu: \"1\" vezes na frase\n",
      " Palavra: \"vocês?\", apareceu: \"1\" vezes na frase\n"
     ]
    }
   ],
   "source": [
    "for valor in usando_split1:\n",
    "    print(f' Palavra: \"{valor}\", apareceu: \"{usando_split1.count(valor)}\" vezes na frase')"
   ]
  },
  {
   "cell_type": "code",
   "execution_count": 158,
   "metadata": {},
   "outputs": [
    {
     "name": "stdout",
     "output_type": "stream",
     "text": [
      "A palavra que mais aparece é \"estou\", 2 vezes!\n"
     ]
    }
   ],
   "source": [
    "compara = 0\n",
    "palavra = ''\n",
    "string = primeira_frase.split(' ')\n",
    "\n",
    "for valor in string:\n",
    "    quantidade_vezes  = string.count(valor)\n",
    "    if quantidade_vezes > compara:\n",
    "        palavra = valor \n",
    "        compara = quantidade_vezes\n",
    "\n",
    "print(f'A palavra que mais aparece é \"{palavra}\", {compara} vezes!')"
   ]
  },
  {
   "cell_type": "markdown",
   "metadata": {},
   "source": [
    "# join"
   ]
  },
  {
   "cell_type": "markdown",
   "metadata": {},
   "source": [
    "#### Separando a lista por meio de ' '"
   ]
  },
  {
   "cell_type": "code",
   "execution_count": 159,
   "metadata": {},
   "outputs": [
    {
     "data": {
      "text/plain": [
       "['O', 'Python', 'é', 'muito', 'bom!']"
      ]
     },
     "execution_count": 159,
     "metadata": {},
     "output_type": "execute_result"
    }
   ],
   "source": [
    "string = 'O Python é muito bom!'\n",
    "lista = string.split(' ')\n",
    "lista"
   ]
  },
  {
   "cell_type": "markdown",
   "metadata": {},
   "source": [
    "#### Juntando a lista por meio de ','"
   ]
  },
  {
   "cell_type": "code",
   "execution_count": 160,
   "metadata": {},
   "outputs": [
    {
     "data": {
      "text/plain": [
       "'O, ,P,y,t,h,o,n, ,é, ,m,u,i,t,o, ,b,o,m,!'"
      ]
     },
     "execution_count": 160,
     "metadata": {},
     "output_type": "execute_result"
    }
   ],
   "source": [
    "lista2 =   ','.join(string)\n",
    "lista2"
   ]
  },
  {
   "cell_type": "markdown",
   "metadata": {},
   "source": [
    "#### juntando a lista por meio de ' '"
   ]
  },
  {
   "cell_type": "code",
   "execution_count": 161,
   "metadata": {},
   "outputs": [
    {
     "data": {
      "text/plain": [
       "'O   P y t h o n   é   m u i t o   b o m !'"
      ]
     },
     "execution_count": 161,
     "metadata": {},
     "output_type": "execute_result"
    }
   ],
   "source": [
    "lista2 = ' '.join(string)\n",
    "lista2"
   ]
  },
  {
   "cell_type": "markdown",
   "metadata": {},
   "source": [
    "# enumetare"
   ]
  },
  {
   "cell_type": "code",
   "execution_count": 162,
   "metadata": {},
   "outputs": [],
   "source": [
    "string = 'Lorem Ipsum is simply dummy text of the printing and typesetting industry.'\n",
    "lista = string.split(' ')"
   ]
  },
  {
   "cell_type": "markdown",
   "metadata": {},
   "source": [
    "#### Enumerando uma lista"
   ]
  },
  {
   "cell_type": "code",
   "execution_count": 163,
   "metadata": {},
   "outputs": [
    {
     "name": "stdout",
     "output_type": "stream",
     "text": [
      "indice: 0, valor: Lorem\n",
      "indice: 1, valor: Ipsum\n",
      "indice: 2, valor: is\n",
      "indice: 3, valor: simply\n",
      "indice: 4, valor: dummy\n",
      "indice: 5, valor: text\n",
      "indice: 6, valor: of\n",
      "indice: 7, valor: the\n",
      "indice: 8, valor: printing\n",
      "indice: 9, valor: and\n",
      "indice: 10, valor: typesetting\n",
      "indice: 11, valor: industry.\n"
     ]
    }
   ],
   "source": [
    "for indice, valor in enumerate(lista):\n",
    "    print(f'indice: {indice}, valor: {valor}')"
   ]
  },
  {
   "cell_type": "markdown",
   "metadata": {},
   "source": [
    "#### Mais exemplo de enumerate"
   ]
  },
  {
   "cell_type": "code",
   "execution_count": 164,
   "metadata": {},
   "outputs": [],
   "source": [
    "lista =[ \n",
    "    ['Wesley', 'Matheus', 'Farias'],\n",
    "    ['Peludo', 'Billi', 'Morgana'],\n",
    "    ['Thor', 'Yasuo', 'Ragnar']\n",
    "]"
   ]
  },
  {
   "cell_type": "markdown",
   "metadata": {},
   "source": [
    "#### Entendendo que: "
   ]
  },
  {
   "cell_type": "code",
   "execution_count": 165,
   "metadata": {},
   "outputs": [
    {
     "data": {
      "text/plain": [
       "[(0, ['Wesley', 'Matheus', 'Farias']),\n",
       " (1, ['Peludo', 'Billi', 'Morgana']),\n",
       " (2, ['Thor', 'Yasuo', 'Ragnar'])]"
      ]
     },
     "execution_count": 165,
     "metadata": {},
     "output_type": "execute_result"
    }
   ],
   "source": [
    "lista_enumerada = enumerate(lista)\n",
    "list(lista_enumerada)"
   ]
  },
  {
   "cell_type": "markdown",
   "metadata": {},
   "source": [
    "#### ou seja: Pegando o valor da linha 1 na coluna 2"
   ]
  },
  {
   "cell_type": "code",
   "execution_count": 166,
   "metadata": {},
   "outputs": [
    {
     "data": {
      "text/plain": [
       "'Morgana'"
      ]
     },
     "execution_count": 166,
     "metadata": {},
     "output_type": "execute_result"
    }
   ],
   "source": [
    "lista[1][2]"
   ]
  },
  {
   "cell_type": "markdown",
   "metadata": {},
   "source": [
    "#### Valor da linha 0 na coluna 1"
   ]
  },
  {
   "cell_type": "code",
   "execution_count": 167,
   "metadata": {},
   "outputs": [
    {
     "data": {
      "text/plain": [
       "'Matheus'"
      ]
     },
     "execution_count": 167,
     "metadata": {},
     "output_type": "execute_result"
    }
   ],
   "source": [
    "\n",
    "lista[0][1]"
   ]
  }
 ],
 "metadata": {
  "interpreter": {
   "hash": "98ec2d3fb40e0acfa7e0669af43f2c2ca9fb051ca2617d801addafe1c0e7e93e"
  },
  "kernelspec": {
   "display_name": "Python 3.8.10 64-bit ('venv': venv)",
   "name": "python3"
  },
  "language_info": {
   "codemirror_mode": {
    "name": "ipython",
    "version": 3
   },
   "file_extension": ".py",
   "mimetype": "text/x-python",
   "name": "python",
   "nbconvert_exporter": "python",
   "pygments_lexer": "ipython3",
   "version": "3.8.10"
  },
  "orig_nbformat": 4
 },
 "nbformat": 4,
 "nbformat_minor": 2
}
